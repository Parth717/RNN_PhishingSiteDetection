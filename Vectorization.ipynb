{
 "cells": [
  {
   "cell_type": "code",
   "id": "initial_id",
   "metadata": {
    "collapsed": true,
    "ExecuteTime": {
     "end_time": "2025-03-10T12:34:51.928532Z",
     "start_time": "2025-03-10T12:34:50.686467Z"
    }
   },
   "source": [
    "import pandas as pd\n",
    "import ollama\n",
    "from urllib.parse import urlparse, parse_qs\n",
    "from tqdm import tqdm"
   ],
   "outputs": [],
   "execution_count": 2
  },
  {
   "metadata": {
    "ExecuteTime": {
     "end_time": "2025-02-22T09:17:46.310521Z",
     "start_time": "2025-02-22T09:17:46.287442Z"
    }
   },
   "cell_type": "code",
   "source": "df=pd.read_csv(\"result.csv\")",
   "id": "d16be60559043f4",
   "outputs": [],
   "execution_count": 74
  },
  {
   "metadata": {
    "ExecuteTime": {
     "end_time": "2025-02-22T09:17:47.038078Z",
     "start_time": "2025-02-22T09:17:47.026675Z"
    }
   },
   "cell_type": "code",
   "source": "df.tail()",
   "id": "b3c1854470cc786b",
   "outputs": [
    {
     "data": {
      "text/plain": [
       "                                                    url      type\n",
       "9995               http://woodmax.in/.usaaupdate/login/  phishing\n",
       "9996  http://allegro.website/show_item.php=813864719...  phishing\n",
       "9997  http://domminationsducroixlignes.com/repartiti...  phishing\n",
       "9998               http://www.bumet.net/data/data/data/  phishing\n",
       "9999  http://integratedhost.com/update/gmail/login.p...  phishing"
      ],
      "text/html": [
       "<div>\n",
       "<style scoped>\n",
       "    .dataframe tbody tr th:only-of-type {\n",
       "        vertical-align: middle;\n",
       "    }\n",
       "\n",
       "    .dataframe tbody tr th {\n",
       "        vertical-align: top;\n",
       "    }\n",
       "\n",
       "    .dataframe thead th {\n",
       "        text-align: right;\n",
       "    }\n",
       "</style>\n",
       "<table border=\"1\" class=\"dataframe\">\n",
       "  <thead>\n",
       "    <tr style=\"text-align: right;\">\n",
       "      <th></th>\n",
       "      <th>url</th>\n",
       "      <th>type</th>\n",
       "    </tr>\n",
       "  </thead>\n",
       "  <tbody>\n",
       "    <tr>\n",
       "      <th>9995</th>\n",
       "      <td>http://woodmax.in/.usaaupdate/login/</td>\n",
       "      <td>phishing</td>\n",
       "    </tr>\n",
       "    <tr>\n",
       "      <th>9996</th>\n",
       "      <td>http://allegro.website/show_item.php=813864719...</td>\n",
       "      <td>phishing</td>\n",
       "    </tr>\n",
       "    <tr>\n",
       "      <th>9997</th>\n",
       "      <td>http://domminationsducroixlignes.com/repartiti...</td>\n",
       "      <td>phishing</td>\n",
       "    </tr>\n",
       "    <tr>\n",
       "      <th>9998</th>\n",
       "      <td>http://www.bumet.net/data/data/data/</td>\n",
       "      <td>phishing</td>\n",
       "    </tr>\n",
       "    <tr>\n",
       "      <th>9999</th>\n",
       "      <td>http://integratedhost.com/update/gmail/login.p...</td>\n",
       "      <td>phishing</td>\n",
       "    </tr>\n",
       "  </tbody>\n",
       "</table>\n",
       "</div>"
      ]
     },
     "execution_count": 75,
     "metadata": {},
     "output_type": "execute_result"
    }
   ],
   "execution_count": 75
  },
  {
   "metadata": {
    "ExecuteTime": {
     "end_time": "2025-02-22T09:17:50.269311Z",
     "start_time": "2025-02-22T09:17:50.261567Z"
    }
   },
   "cell_type": "code",
   "source": [
    "# Convert 'type' column (Label Encoding)\n",
    "df['type'] = df['type'].map({'phishing': 1, 'legitimate': 0})"
   ],
   "id": "f1f6585a2e761ad4",
   "outputs": [],
   "execution_count": 76
  },
  {
   "metadata": {
    "ExecuteTime": {
     "end_time": "2025-02-22T09:17:51.144645Z",
     "start_time": "2025-02-22T09:17:51.140118Z"
    }
   },
   "cell_type": "code",
   "source": [
    "# Function to tokenize URLs\n",
    "def tokenize_url(url):\n",
    "    parsed = urlparse(url)\n",
    "    return {\n",
    "        \"protocol\": parsed.scheme,\n",
    "        \"domain\": parsed.netloc,\n",
    "        \"path\": parsed.path,\n",
    "        \"num_query_params\": len(parse_qs(parsed.query)),\n",
    "        \"has_login\": 1 if \"login\" in parsed.path.lower() or \"signin\" in parsed.path.lower() else 0,\n",
    "        \"has_ip\": 1 if any(char.isdigit() for char in parsed.netloc) else 0,\n",
    "    }"
   ],
   "id": "7e653f9738edca43",
   "outputs": [],
   "execution_count": 77
  },
  {
   "metadata": {
    "ExecuteTime": {
     "end_time": "2025-02-22T09:17:53.353281Z",
     "start_time": "2025-02-22T09:17:52.099087Z"
    }
   },
   "cell_type": "code",
   "source": [
    "df_tokens = df['url'].apply(tokenize_url).apply(pd.Series)\n",
    "\n",
    "# Select key parts for embedding\n",
    "df['text_for_embedding'] = df_tokens['domain'] + \" \" + df_tokens['path']\n"
   ],
   "id": "29098c8fc6423104",
   "outputs": [],
   "execution_count": 78
  },
  {
   "metadata": {
    "ExecuteTime": {
     "end_time": "2025-02-22T09:17:54.900570Z",
     "start_time": "2025-02-22T09:17:54.896508Z"
    }
   },
   "cell_type": "code",
   "source": "tqdm.pandas()",
   "id": "30e957918449b063",
   "outputs": [],
   "execution_count": 79
  },
  {
   "metadata": {
    "ExecuteTime": {
     "end_time": "2025-02-22T09:17:56.178320Z",
     "start_time": "2025-02-22T09:17:56.174210Z"
    }
   },
   "cell_type": "code",
   "source": [
    "def get_embedding(text):\n",
    "    response = ollama.embeddings(model=\"mistral\", prompt=text)\n",
    "    return response['embedding']"
   ],
   "id": "2e14eee5fd967330",
   "outputs": [],
   "execution_count": 80
  },
  {
   "metadata": {
    "ExecuteTime": {
     "end_time": "2025-02-22T21:42:09.613408Z",
     "start_time": "2025-02-22T09:17:57.348342Z"
    }
   },
   "cell_type": "code",
   "source": [
    "# Apply function with progress bar\n",
    "df['embedding'] = df['text_for_embedding'].progress_apply(get_embedding)\n"
   ],
   "id": "8951733c0c4978d3",
   "outputs": [
    {
     "name": "stderr",
     "output_type": "stream",
     "text": [
      "100%|██████████| 10000/10000 [12:24:12<00:00,  4.47s/it]  \n"
     ]
    }
   ],
   "execution_count": 81
  },
  {
   "metadata": {
    "ExecuteTime": {
     "end_time": "2025-02-22T21:42:22.249374Z",
     "start_time": "2025-02-22T21:42:09.842314Z"
    }
   },
   "cell_type": "code",
   "source": [
    "# Convert embeddings into separate columns\n",
    "embedding_df = pd.DataFrame(df['embedding'].tolist(), index=df.index)\n",
    "df = pd.concat([df.drop(columns=['embedding', 'text_for_embedding']), df_tokens, embedding_df], axis=1)\n",
    "\n"
   ],
   "id": "9a0e4805f27ce1d4",
   "outputs": [],
   "execution_count": 82
  },
  {
   "metadata": {
    "ExecuteTime": {
     "end_time": "2025-02-22T21:43:14.980198Z",
     "start_time": "2025-02-22T21:42:22.285416Z"
    }
   },
   "cell_type": "code",
   "source": [
    "# Save Processed Data\n",
    "df.to_csv(\"processed_data.csv\", index=False)\n",
    "\n",
    "print(\"Processing completed. Saved as 'processed_sample.csv'.\")"
   ],
   "id": "71ab879933ab5d0",
   "outputs": [
    {
     "name": "stdout",
     "output_type": "stream",
     "text": [
      "Processing completed. Saved as 'processed_sample.csv'.\n"
     ]
    }
   ],
   "execution_count": 83
  },
  {
   "metadata": {},
   "cell_type": "code",
   "outputs": [],
   "execution_count": null,
   "source": "",
   "id": "7b05dd6e77b37376"
  }
 ],
 "metadata": {
  "kernelspec": {
   "display_name": "Python 3",
   "language": "python",
   "name": "python3"
  },
  "language_info": {
   "codemirror_mode": {
    "name": "ipython",
    "version": 2
   },
   "file_extension": ".py",
   "mimetype": "text/x-python",
   "name": "python",
   "nbconvert_exporter": "python",
   "pygments_lexer": "ipython2",
   "version": "2.7.6"
  }
 },
 "nbformat": 4,
 "nbformat_minor": 5
}
