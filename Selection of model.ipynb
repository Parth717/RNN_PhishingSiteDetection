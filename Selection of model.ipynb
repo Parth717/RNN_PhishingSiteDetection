{
 "cells": [
  {
   "cell_type": "code",
   "id": "initial_id",
   "metadata": {
    "collapsed": true,
    "ExecuteTime": {
     "end_time": "2025-03-24T06:26:25.315636Z",
     "start_time": "2025-03-24T06:26:22.853038Z"
    }
   },
   "source": [
    "import numpy as np\n",
    "import pandas as pd\n",
    "import tensorflow as tf\n",
    "from tensorflow.keras.models import Sequential\n",
    "from tensorflow.keras.layers import LSTM, Dense, Dropout\n",
    "from sklearn.model_selection import train_test_split\n",
    "from sklearn.preprocessing import StandardScaler, LabelEncoder"
   ],
   "outputs": [],
   "execution_count": 1
  },
  {
   "metadata": {
    "ExecuteTime": {
     "end_time": "2025-03-24T06:26:33.829754Z",
     "start_time": "2025-03-24T06:26:26.411932Z"
    }
   },
   "cell_type": "code",
   "source": "data=pd.read_csv('processed_data - Copy.csv')",
   "id": "fd35b60076dc8809",
   "outputs": [
    {
     "name": "stderr",
     "output_type": "stream",
     "text": [
      "C:\\Users\\Admin\\AppData\\Local\\Temp\\ipykernel_13704\\4175128423.py:1: DtypeWarning: Columns (4) have mixed types. Specify dtype option on import or set low_memory=False.\n",
      "  data=pd.read_csv('processed_data - Copy.csv')\n"
     ]
    }
   ],
   "execution_count": 2
  },
  {
   "metadata": {
    "ExecuteTime": {
     "end_time": "2025-03-24T06:26:33.958422Z",
     "start_time": "2025-03-24T06:26:33.932666Z"
    }
   },
   "cell_type": "code",
   "source": "data.head()",
   "id": "1f888d9c88acfc39",
   "outputs": [
    {
     "data": {
      "text/plain": [
       "                         url  type protocol             domain path  \\\n",
       "0     https://www.google.com     0    https     www.google.com  NaN   \n",
       "1    https://www.youtube.com     0    https    www.youtube.com  NaN   \n",
       "2   https://www.facebook.com     0    https   www.facebook.com  NaN   \n",
       "3      https://www.baidu.com     0    https      www.baidu.com  NaN   \n",
       "4  https://www.wikipedia.org     0    https  www.wikipedia.org  NaN   \n",
       "\n",
       "   num_query_params  has_login  has_ip         0          1  ...      4086  \\\n",
       "0                 0          0       0  1.474012  -6.320653  ... -6.029618   \n",
       "1                 0          0       0  3.299294 -11.309541  ... -8.413183   \n",
       "2                 0          0       0  3.483486  -8.270725  ... -5.282053   \n",
       "3                 0          0       0  7.238088  -5.367383  ... -3.861706   \n",
       "4                 0          0       0  2.583710  -7.949343  ... -9.124401   \n",
       "\n",
       "       4087      4088       4089      4090       4091      4092      4093  \\\n",
       "0 -4.150418 -5.598467   4.607432 -0.874820 -14.032089  4.010758 -4.673757   \n",
       "1 -3.901798 -3.209155  11.499436 -2.999211  -0.598210  3.836595 -2.416809   \n",
       "2 -0.725000 -3.639594   2.920578  6.914502  -5.331585  2.558702  0.606924   \n",
       "3  3.446619 -2.998143  -1.311543  1.134740 -15.733363  6.407080 -1.327570   \n",
       "4 -3.307597  2.294101  10.153708 -2.189356   3.135201 -1.577050 -3.270767   \n",
       "\n",
       "       4094      4095  \n",
       "0  4.027453 -5.597641  \n",
       "1  1.971755 -3.914446  \n",
       "2  0.340747 -6.124741  \n",
       "3  4.824454 -0.211129  \n",
       "4 -4.444252 -5.787119  \n",
       "\n",
       "[5 rows x 4104 columns]"
      ],
      "text/html": [
       "<div>\n",
       "<style scoped>\n",
       "    .dataframe tbody tr th:only-of-type {\n",
       "        vertical-align: middle;\n",
       "    }\n",
       "\n",
       "    .dataframe tbody tr th {\n",
       "        vertical-align: top;\n",
       "    }\n",
       "\n",
       "    .dataframe thead th {\n",
       "        text-align: right;\n",
       "    }\n",
       "</style>\n",
       "<table border=\"1\" class=\"dataframe\">\n",
       "  <thead>\n",
       "    <tr style=\"text-align: right;\">\n",
       "      <th></th>\n",
       "      <th>url</th>\n",
       "      <th>type</th>\n",
       "      <th>protocol</th>\n",
       "      <th>domain</th>\n",
       "      <th>path</th>\n",
       "      <th>num_query_params</th>\n",
       "      <th>has_login</th>\n",
       "      <th>has_ip</th>\n",
       "      <th>0</th>\n",
       "      <th>1</th>\n",
       "      <th>...</th>\n",
       "      <th>4086</th>\n",
       "      <th>4087</th>\n",
       "      <th>4088</th>\n",
       "      <th>4089</th>\n",
       "      <th>4090</th>\n",
       "      <th>4091</th>\n",
       "      <th>4092</th>\n",
       "      <th>4093</th>\n",
       "      <th>4094</th>\n",
       "      <th>4095</th>\n",
       "    </tr>\n",
       "  </thead>\n",
       "  <tbody>\n",
       "    <tr>\n",
       "      <th>0</th>\n",
       "      <td>https://www.google.com</td>\n",
       "      <td>0</td>\n",
       "      <td>https</td>\n",
       "      <td>www.google.com</td>\n",
       "      <td>NaN</td>\n",
       "      <td>0</td>\n",
       "      <td>0</td>\n",
       "      <td>0</td>\n",
       "      <td>1.474012</td>\n",
       "      <td>-6.320653</td>\n",
       "      <td>...</td>\n",
       "      <td>-6.029618</td>\n",
       "      <td>-4.150418</td>\n",
       "      <td>-5.598467</td>\n",
       "      <td>4.607432</td>\n",
       "      <td>-0.874820</td>\n",
       "      <td>-14.032089</td>\n",
       "      <td>4.010758</td>\n",
       "      <td>-4.673757</td>\n",
       "      <td>4.027453</td>\n",
       "      <td>-5.597641</td>\n",
       "    </tr>\n",
       "    <tr>\n",
       "      <th>1</th>\n",
       "      <td>https://www.youtube.com</td>\n",
       "      <td>0</td>\n",
       "      <td>https</td>\n",
       "      <td>www.youtube.com</td>\n",
       "      <td>NaN</td>\n",
       "      <td>0</td>\n",
       "      <td>0</td>\n",
       "      <td>0</td>\n",
       "      <td>3.299294</td>\n",
       "      <td>-11.309541</td>\n",
       "      <td>...</td>\n",
       "      <td>-8.413183</td>\n",
       "      <td>-3.901798</td>\n",
       "      <td>-3.209155</td>\n",
       "      <td>11.499436</td>\n",
       "      <td>-2.999211</td>\n",
       "      <td>-0.598210</td>\n",
       "      <td>3.836595</td>\n",
       "      <td>-2.416809</td>\n",
       "      <td>1.971755</td>\n",
       "      <td>-3.914446</td>\n",
       "    </tr>\n",
       "    <tr>\n",
       "      <th>2</th>\n",
       "      <td>https://www.facebook.com</td>\n",
       "      <td>0</td>\n",
       "      <td>https</td>\n",
       "      <td>www.facebook.com</td>\n",
       "      <td>NaN</td>\n",
       "      <td>0</td>\n",
       "      <td>0</td>\n",
       "      <td>0</td>\n",
       "      <td>3.483486</td>\n",
       "      <td>-8.270725</td>\n",
       "      <td>...</td>\n",
       "      <td>-5.282053</td>\n",
       "      <td>-0.725000</td>\n",
       "      <td>-3.639594</td>\n",
       "      <td>2.920578</td>\n",
       "      <td>6.914502</td>\n",
       "      <td>-5.331585</td>\n",
       "      <td>2.558702</td>\n",
       "      <td>0.606924</td>\n",
       "      <td>0.340747</td>\n",
       "      <td>-6.124741</td>\n",
       "    </tr>\n",
       "    <tr>\n",
       "      <th>3</th>\n",
       "      <td>https://www.baidu.com</td>\n",
       "      <td>0</td>\n",
       "      <td>https</td>\n",
       "      <td>www.baidu.com</td>\n",
       "      <td>NaN</td>\n",
       "      <td>0</td>\n",
       "      <td>0</td>\n",
       "      <td>0</td>\n",
       "      <td>7.238088</td>\n",
       "      <td>-5.367383</td>\n",
       "      <td>...</td>\n",
       "      <td>-3.861706</td>\n",
       "      <td>3.446619</td>\n",
       "      <td>-2.998143</td>\n",
       "      <td>-1.311543</td>\n",
       "      <td>1.134740</td>\n",
       "      <td>-15.733363</td>\n",
       "      <td>6.407080</td>\n",
       "      <td>-1.327570</td>\n",
       "      <td>4.824454</td>\n",
       "      <td>-0.211129</td>\n",
       "    </tr>\n",
       "    <tr>\n",
       "      <th>4</th>\n",
       "      <td>https://www.wikipedia.org</td>\n",
       "      <td>0</td>\n",
       "      <td>https</td>\n",
       "      <td>www.wikipedia.org</td>\n",
       "      <td>NaN</td>\n",
       "      <td>0</td>\n",
       "      <td>0</td>\n",
       "      <td>0</td>\n",
       "      <td>2.583710</td>\n",
       "      <td>-7.949343</td>\n",
       "      <td>...</td>\n",
       "      <td>-9.124401</td>\n",
       "      <td>-3.307597</td>\n",
       "      <td>2.294101</td>\n",
       "      <td>10.153708</td>\n",
       "      <td>-2.189356</td>\n",
       "      <td>3.135201</td>\n",
       "      <td>-1.577050</td>\n",
       "      <td>-3.270767</td>\n",
       "      <td>-4.444252</td>\n",
       "      <td>-5.787119</td>\n",
       "    </tr>\n",
       "  </tbody>\n",
       "</table>\n",
       "<p>5 rows × 4104 columns</p>\n",
       "</div>"
      ]
     },
     "execution_count": 3,
     "metadata": {},
     "output_type": "execute_result"
    }
   ],
   "execution_count": 3
  },
  {
   "metadata": {
    "ExecuteTime": {
     "end_time": "2025-03-24T06:26:42.837509Z",
     "start_time": "2025-03-24T06:26:35.867989Z"
    }
   },
   "cell_type": "code",
   "source": "data.describe()",
   "id": "a83f5b75a16e94e4",
   "outputs": [
    {
     "data": {
      "text/plain": [
       "              type  num_query_params     has_login        has_ip  \\\n",
       "count  10000.00000       10000.00000  10000.000000  10000.000000   \n",
       "mean       0.30000           0.22850      0.040600      0.120300   \n",
       "std        0.45828           0.76847      0.197372      0.325328   \n",
       "min        0.00000           0.00000      0.000000      0.000000   \n",
       "25%        0.00000           0.00000      0.000000      0.000000   \n",
       "50%        0.00000           0.00000      0.000000      0.000000   \n",
       "75%        1.00000           0.00000      0.000000      0.000000   \n",
       "max        1.00000          11.00000      1.000000      1.000000   \n",
       "\n",
       "                  0             1             2             3             4  \\\n",
       "count  10000.000000  10000.000000  10000.000000  10000.000000  10000.000000   \n",
       "mean       1.825186     -0.489932     -1.280960      0.556674      1.521131   \n",
       "std        3.456439      4.897243      3.630948      3.545810      3.698558   \n",
       "min      -12.120238    -21.683294    -13.997510    -15.264291    -11.278417   \n",
       "25%       -0.394850     -3.685385     -3.816044     -1.741664     -1.124774   \n",
       "50%        2.061986      0.290551     -1.110662      0.698397      1.308093   \n",
       "75%        4.330365      3.103162      1.300020      2.994816      3.919147   \n",
       "max       16.997646     19.047419     11.596862     17.359842     14.331092   \n",
       "\n",
       "                  5  ...          4086          4087          4088  \\\n",
       "count  10000.000000  ...  10000.000000  10000.000000  10000.000000   \n",
       "mean       3.135187  ...     -0.903838     -3.572469     -2.036305   \n",
       "std        5.784770  ...      4.806444      3.365498      3.178033   \n",
       "min      -15.123241  ...    -14.191189    -17.681902    -14.782722   \n",
       "25%       -1.260022  ...     -4.755268     -5.773082     -4.051370   \n",
       "50%        2.478421  ...     -1.010392     -3.611810     -1.835650   \n",
       "75%        7.619324  ...      2.815659     -1.398567      0.179332   \n",
       "max       21.191759  ...     14.341599      9.492559     10.232706   \n",
       "\n",
       "               4089          4090          4091          4092          4093  \\\n",
       "count  10000.000000  10000.000000  10000.000000  10000.000000  10000.000000   \n",
       "mean       7.213285      1.105316     11.355969      2.874509     -1.163744   \n",
       "std        5.411459      3.487084     15.617561      3.942291      4.134996   \n",
       "min      -21.994402    -11.381241    -62.399025    -13.943594    -18.038832   \n",
       "25%        3.528340     -1.284518      1.864583      0.334136     -3.879204   \n",
       "50%        7.008583      1.112881     15.143221      2.555516     -1.295399   \n",
       "75%       10.655400      3.544053     22.409606      5.143624      1.592963   \n",
       "max       33.205189     15.624345     55.056305     22.407187     15.094932   \n",
       "\n",
       "               4094          4095  \n",
       "count  10000.000000  10000.000000  \n",
       "mean       1.057329     -4.150832  \n",
       "std        3.916178      4.282678  \n",
       "min      -13.521749    -19.249952  \n",
       "25%       -1.613645     -7.101959  \n",
       "50%        1.187455     -4.542320  \n",
       "75%        3.811916     -1.336412  \n",
       "max       16.089056     13.132465  \n",
       "\n",
       "[8 rows x 4100 columns]"
      ],
      "text/html": [
       "<div>\n",
       "<style scoped>\n",
       "    .dataframe tbody tr th:only-of-type {\n",
       "        vertical-align: middle;\n",
       "    }\n",
       "\n",
       "    .dataframe tbody tr th {\n",
       "        vertical-align: top;\n",
       "    }\n",
       "\n",
       "    .dataframe thead th {\n",
       "        text-align: right;\n",
       "    }\n",
       "</style>\n",
       "<table border=\"1\" class=\"dataframe\">\n",
       "  <thead>\n",
       "    <tr style=\"text-align: right;\">\n",
       "      <th></th>\n",
       "      <th>type</th>\n",
       "      <th>num_query_params</th>\n",
       "      <th>has_login</th>\n",
       "      <th>has_ip</th>\n",
       "      <th>0</th>\n",
       "      <th>1</th>\n",
       "      <th>2</th>\n",
       "      <th>3</th>\n",
       "      <th>4</th>\n",
       "      <th>5</th>\n",
       "      <th>...</th>\n",
       "      <th>4086</th>\n",
       "      <th>4087</th>\n",
       "      <th>4088</th>\n",
       "      <th>4089</th>\n",
       "      <th>4090</th>\n",
       "      <th>4091</th>\n",
       "      <th>4092</th>\n",
       "      <th>4093</th>\n",
       "      <th>4094</th>\n",
       "      <th>4095</th>\n",
       "    </tr>\n",
       "  </thead>\n",
       "  <tbody>\n",
       "    <tr>\n",
       "      <th>count</th>\n",
       "      <td>10000.00000</td>\n",
       "      <td>10000.00000</td>\n",
       "      <td>10000.000000</td>\n",
       "      <td>10000.000000</td>\n",
       "      <td>10000.000000</td>\n",
       "      <td>10000.000000</td>\n",
       "      <td>10000.000000</td>\n",
       "      <td>10000.000000</td>\n",
       "      <td>10000.000000</td>\n",
       "      <td>10000.000000</td>\n",
       "      <td>...</td>\n",
       "      <td>10000.000000</td>\n",
       "      <td>10000.000000</td>\n",
       "      <td>10000.000000</td>\n",
       "      <td>10000.000000</td>\n",
       "      <td>10000.000000</td>\n",
       "      <td>10000.000000</td>\n",
       "      <td>10000.000000</td>\n",
       "      <td>10000.000000</td>\n",
       "      <td>10000.000000</td>\n",
       "      <td>10000.000000</td>\n",
       "    </tr>\n",
       "    <tr>\n",
       "      <th>mean</th>\n",
       "      <td>0.30000</td>\n",
       "      <td>0.22850</td>\n",
       "      <td>0.040600</td>\n",
       "      <td>0.120300</td>\n",
       "      <td>1.825186</td>\n",
       "      <td>-0.489932</td>\n",
       "      <td>-1.280960</td>\n",
       "      <td>0.556674</td>\n",
       "      <td>1.521131</td>\n",
       "      <td>3.135187</td>\n",
       "      <td>...</td>\n",
       "      <td>-0.903838</td>\n",
       "      <td>-3.572469</td>\n",
       "      <td>-2.036305</td>\n",
       "      <td>7.213285</td>\n",
       "      <td>1.105316</td>\n",
       "      <td>11.355969</td>\n",
       "      <td>2.874509</td>\n",
       "      <td>-1.163744</td>\n",
       "      <td>1.057329</td>\n",
       "      <td>-4.150832</td>\n",
       "    </tr>\n",
       "    <tr>\n",
       "      <th>std</th>\n",
       "      <td>0.45828</td>\n",
       "      <td>0.76847</td>\n",
       "      <td>0.197372</td>\n",
       "      <td>0.325328</td>\n",
       "      <td>3.456439</td>\n",
       "      <td>4.897243</td>\n",
       "      <td>3.630948</td>\n",
       "      <td>3.545810</td>\n",
       "      <td>3.698558</td>\n",
       "      <td>5.784770</td>\n",
       "      <td>...</td>\n",
       "      <td>4.806444</td>\n",
       "      <td>3.365498</td>\n",
       "      <td>3.178033</td>\n",
       "      <td>5.411459</td>\n",
       "      <td>3.487084</td>\n",
       "      <td>15.617561</td>\n",
       "      <td>3.942291</td>\n",
       "      <td>4.134996</td>\n",
       "      <td>3.916178</td>\n",
       "      <td>4.282678</td>\n",
       "    </tr>\n",
       "    <tr>\n",
       "      <th>min</th>\n",
       "      <td>0.00000</td>\n",
       "      <td>0.00000</td>\n",
       "      <td>0.000000</td>\n",
       "      <td>0.000000</td>\n",
       "      <td>-12.120238</td>\n",
       "      <td>-21.683294</td>\n",
       "      <td>-13.997510</td>\n",
       "      <td>-15.264291</td>\n",
       "      <td>-11.278417</td>\n",
       "      <td>-15.123241</td>\n",
       "      <td>...</td>\n",
       "      <td>-14.191189</td>\n",
       "      <td>-17.681902</td>\n",
       "      <td>-14.782722</td>\n",
       "      <td>-21.994402</td>\n",
       "      <td>-11.381241</td>\n",
       "      <td>-62.399025</td>\n",
       "      <td>-13.943594</td>\n",
       "      <td>-18.038832</td>\n",
       "      <td>-13.521749</td>\n",
       "      <td>-19.249952</td>\n",
       "    </tr>\n",
       "    <tr>\n",
       "      <th>25%</th>\n",
       "      <td>0.00000</td>\n",
       "      <td>0.00000</td>\n",
       "      <td>0.000000</td>\n",
       "      <td>0.000000</td>\n",
       "      <td>-0.394850</td>\n",
       "      <td>-3.685385</td>\n",
       "      <td>-3.816044</td>\n",
       "      <td>-1.741664</td>\n",
       "      <td>-1.124774</td>\n",
       "      <td>-1.260022</td>\n",
       "      <td>...</td>\n",
       "      <td>-4.755268</td>\n",
       "      <td>-5.773082</td>\n",
       "      <td>-4.051370</td>\n",
       "      <td>3.528340</td>\n",
       "      <td>-1.284518</td>\n",
       "      <td>1.864583</td>\n",
       "      <td>0.334136</td>\n",
       "      <td>-3.879204</td>\n",
       "      <td>-1.613645</td>\n",
       "      <td>-7.101959</td>\n",
       "    </tr>\n",
       "    <tr>\n",
       "      <th>50%</th>\n",
       "      <td>0.00000</td>\n",
       "      <td>0.00000</td>\n",
       "      <td>0.000000</td>\n",
       "      <td>0.000000</td>\n",
       "      <td>2.061986</td>\n",
       "      <td>0.290551</td>\n",
       "      <td>-1.110662</td>\n",
       "      <td>0.698397</td>\n",
       "      <td>1.308093</td>\n",
       "      <td>2.478421</td>\n",
       "      <td>...</td>\n",
       "      <td>-1.010392</td>\n",
       "      <td>-3.611810</td>\n",
       "      <td>-1.835650</td>\n",
       "      <td>7.008583</td>\n",
       "      <td>1.112881</td>\n",
       "      <td>15.143221</td>\n",
       "      <td>2.555516</td>\n",
       "      <td>-1.295399</td>\n",
       "      <td>1.187455</td>\n",
       "      <td>-4.542320</td>\n",
       "    </tr>\n",
       "    <tr>\n",
       "      <th>75%</th>\n",
       "      <td>1.00000</td>\n",
       "      <td>0.00000</td>\n",
       "      <td>0.000000</td>\n",
       "      <td>0.000000</td>\n",
       "      <td>4.330365</td>\n",
       "      <td>3.103162</td>\n",
       "      <td>1.300020</td>\n",
       "      <td>2.994816</td>\n",
       "      <td>3.919147</td>\n",
       "      <td>7.619324</td>\n",
       "      <td>...</td>\n",
       "      <td>2.815659</td>\n",
       "      <td>-1.398567</td>\n",
       "      <td>0.179332</td>\n",
       "      <td>10.655400</td>\n",
       "      <td>3.544053</td>\n",
       "      <td>22.409606</td>\n",
       "      <td>5.143624</td>\n",
       "      <td>1.592963</td>\n",
       "      <td>3.811916</td>\n",
       "      <td>-1.336412</td>\n",
       "    </tr>\n",
       "    <tr>\n",
       "      <th>max</th>\n",
       "      <td>1.00000</td>\n",
       "      <td>11.00000</td>\n",
       "      <td>1.000000</td>\n",
       "      <td>1.000000</td>\n",
       "      <td>16.997646</td>\n",
       "      <td>19.047419</td>\n",
       "      <td>11.596862</td>\n",
       "      <td>17.359842</td>\n",
       "      <td>14.331092</td>\n",
       "      <td>21.191759</td>\n",
       "      <td>...</td>\n",
       "      <td>14.341599</td>\n",
       "      <td>9.492559</td>\n",
       "      <td>10.232706</td>\n",
       "      <td>33.205189</td>\n",
       "      <td>15.624345</td>\n",
       "      <td>55.056305</td>\n",
       "      <td>22.407187</td>\n",
       "      <td>15.094932</td>\n",
       "      <td>16.089056</td>\n",
       "      <td>13.132465</td>\n",
       "    </tr>\n",
       "  </tbody>\n",
       "</table>\n",
       "<p>8 rows × 4100 columns</p>\n",
       "</div>"
      ]
     },
     "execution_count": 4,
     "metadata": {},
     "output_type": "execute_result"
    }
   ],
   "execution_count": 4
  },
  {
   "metadata": {
    "ExecuteTime": {
     "end_time": "2025-03-24T06:26:43.430521Z",
     "start_time": "2025-03-24T06:26:43.409134Z"
    }
   },
   "cell_type": "code",
   "source": "data.info",
   "id": "57471c439a585493",
   "outputs": [
    {
     "data": {
      "text/plain": [
       "<bound method DataFrame.info of                                                     url  type protocol  \\\n",
       "0                                https://www.google.com     0    https   \n",
       "1                               https://www.youtube.com     0    https   \n",
       "2                              https://www.facebook.com     0    https   \n",
       "3                                 https://www.baidu.com     0    https   \n",
       "4                             https://www.wikipedia.org     0    https   \n",
       "...                                                 ...   ...      ...   \n",
       "9995               http://woodmax.in/.usaaupdate/login/     1     http   \n",
       "9996  http://allegro.website/show_item.php=813864719...     1     http   \n",
       "9997  http://domminationsducroixlignes.com/repartiti...     1     http   \n",
       "9998               http://www.bumet.net/data/data/data/     1     http   \n",
       "9999  http://integratedhost.com/update/gmail/login.p...     1     http   \n",
       "\n",
       "                             domain                                   path  \\\n",
       "0                    www.google.com                                    NaN   \n",
       "1                   www.youtube.com                                    NaN   \n",
       "2                  www.facebook.com                                    NaN   \n",
       "3                     www.baidu.com                                    NaN   \n",
       "4                 www.wikipedia.org                                    NaN   \n",
       "...                             ...                                    ...   \n",
       "9995                     woodmax.in                    /.usaaupdate/login/   \n",
       "9996                allegro.website           /show_item.php=8138647198...   \n",
       "9997  domminationsducroixlignes.com  /repartitions.des.articles.recurre...   \n",
       "9998                  www.bumet.net                       /data/data/data/   \n",
       "9999             integratedhost.com                /update/gmail/login.php   \n",
       "\n",
       "      num_query_params  has_login  has_ip         0          1  ...      4086  \\\n",
       "0                    0          0       0  1.474012  -6.320653  ... -6.029618   \n",
       "1                    0          0       0  3.299294 -11.309541  ... -8.413183   \n",
       "2                    0          0       0  3.483486  -8.270725  ... -5.282053   \n",
       "3                    0          0       0  7.238088  -5.367383  ... -3.861706   \n",
       "4                    0          0       0  2.583710  -7.949343  ... -9.124401   \n",
       "...                ...        ...     ...       ...        ...  ...       ...   \n",
       "9995                 0          1       0 -0.282601   3.283295  ... -5.742667   \n",
       "9996                 0          0       0  0.797521   3.539689  ...  1.173334   \n",
       "9997                 0          0       0 -4.799600   2.135564  ... -5.493793   \n",
       "9998                 0          0       0  0.936967   4.602736  ... -8.293711   \n",
       "9999                 1          1       0  0.181747   0.550968  ...  5.952462   \n",
       "\n",
       "          4087      4088       4089      4090       4091      4092      4093  \\\n",
       "0    -4.150418 -5.598467   4.607432 -0.874820 -14.032089  4.010758 -4.673757   \n",
       "1    -3.901798 -3.209155  11.499436 -2.999211  -0.598210  3.836595 -2.416809   \n",
       "2    -0.725000 -3.639594   2.920578  6.914502  -5.331585  2.558702  0.606924   \n",
       "3     3.446619 -2.998143  -1.311543  1.134740 -15.733363  6.407080 -1.327570   \n",
       "4    -3.307597  2.294101  10.153708 -2.189356   3.135201 -1.577050 -3.270767   \n",
       "...        ...       ...        ...       ...        ...       ...       ...   \n",
       "9995 -3.971922  0.884038   4.804419  0.542042  13.836905 -1.982915 -3.756078   \n",
       "9996  1.913123 -2.445252  11.977274  2.065486   5.970798  1.012230 -1.940416   \n",
       "9997 -1.511098 -2.329610   9.082810 -1.449850  17.075743  1.997318 -4.943170   \n",
       "9998 -0.985217  1.172308  -6.449876  1.279943  12.908427 -1.188430  1.954974   \n",
       "9999 -8.401019 -2.635673   5.173592  5.197908   5.747248  4.729888 -8.420253   \n",
       "\n",
       "          4094       4095  \n",
       "0     4.027453  -5.597641  \n",
       "1     1.971755  -3.914446  \n",
       "2     0.340747  -6.124741  \n",
       "3     4.824454  -0.211129  \n",
       "4    -4.444252  -5.787119  \n",
       "...        ...        ...  \n",
       "9995  4.952657  -0.047998  \n",
       "9996  2.390410  -0.383428  \n",
       "9997  4.581853  -5.235241  \n",
       "9998 -7.644213   0.507224  \n",
       "9999  3.483025 -13.788649  \n",
       "\n",
       "[10000 rows x 4104 columns]>"
      ]
     },
     "execution_count": 5,
     "metadata": {},
     "output_type": "execute_result"
    }
   ],
   "execution_count": 5
  },
  {
   "metadata": {
    "ExecuteTime": {
     "end_time": "2025-03-24T06:26:43.880705Z",
     "start_time": "2025-03-24T06:26:43.544436Z"
    }
   },
   "cell_type": "code",
   "source": [
    "# Extract target labels\n",
    "y = data['type'].values.astype('float32')  # Ensure correct data type\n"
   ],
   "id": "2c77b541e7200ff0",
   "outputs": [],
   "execution_count": 6
  },
  {
   "metadata": {
    "ExecuteTime": {
     "end_time": "2025-03-24T06:26:45.411579Z",
     "start_time": "2025-03-24T06:26:45.335882Z"
    }
   },
   "cell_type": "code",
   "source": [
    "# Drop non-numeric columns and keep vectorized features\n",
    "X = data.drop(columns=['url', 'type', 'domain', 'path'])"
   ],
   "id": "31df10b31767795b",
   "outputs": [],
   "execution_count": 7
  },
  {
   "metadata": {
    "ExecuteTime": {
     "end_time": "2025-03-24T06:26:45.863218Z",
     "start_time": "2025-03-24T06:26:45.416586Z"
    }
   },
   "cell_type": "code",
   "source": [
    "# Convert categorical feature 'protocol' into numerical values\n",
    "X['protocol'] = LabelEncoder().fit_transform(X['protocol'])"
   ],
   "id": "2d85b96c02722fdc",
   "outputs": [],
   "execution_count": 8
  },
  {
   "metadata": {
    "ExecuteTime": {
     "end_time": "2025-03-24T06:26:47.409655Z",
     "start_time": "2025-03-24T06:26:45.905159Z"
    }
   },
   "cell_type": "code",
   "source": [
    "# Normalize the feature set\n",
    "scaler = StandardScaler()\n",
    "X_scaled = scaler.fit_transform(X)"
   ],
   "id": "ac6f361993debdbd",
   "outputs": [],
   "execution_count": 9
  },
  {
   "metadata": {
    "ExecuteTime": {
     "end_time": "2025-03-24T06:26:49.293970Z",
     "start_time": "2025-03-24T06:26:49.290968Z"
    }
   },
   "cell_type": "code",
   "source": [
    "# Reshape data for RNN (assuming each row represents a time step)\n",
    "X_reshaped = X_scaled.reshape((X_scaled.shape[0], 1, X_scaled.shape[1]))  # (samples, time_steps, features)\n"
   ],
   "id": "e7952b891949cd45",
   "outputs": [],
   "execution_count": 10
  },
  {
   "metadata": {
    "ExecuteTime": {
     "end_time": "2025-03-24T06:26:50.701907Z",
     "start_time": "2025-03-24T06:26:50.122432Z"
    }
   },
   "cell_type": "code",
   "source": [
    "# Split the dataset\n",
    "X_train, X_test, y_train, y_test = train_test_split(X_reshaped, y, test_size=0.3, random_state=42)\n"
   ],
   "id": "868e890a754db7eb",
   "outputs": [],
   "execution_count": 11
  },
  {
   "metadata": {
    "ExecuteTime": {
     "end_time": "2025-03-24T06:26:51.932777Z",
     "start_time": "2025-03-24T06:26:51.822997Z"
    }
   },
   "cell_type": "code",
   "source": [
    "\n",
    "# Define the RNN model\n",
    "model = Sequential([\n",
    "    LSTM(128, return_sequences=True, input_shape=(1, X_scaled.shape[1])),\n",
    "    Dropout(0.2),\n",
    "    LSTM(64, return_sequences=False),\n",
    "    Dropout(0.2),\n",
    "    Dense(32, activation='relu'),\n",
    "    Dense(1, activation='sigmoid')  # Binary classification (phishing or legitimate)\n",
    "])"
   ],
   "id": "8f89aa6347152f28",
   "outputs": [
    {
     "name": "stderr",
     "output_type": "stream",
     "text": [
      "C:\\Users\\Admin\\AppData\\Roaming\\JetBrains\\DataSpell2024.3\\projects\\workspace\\.venv\\Lib\\site-packages\\keras\\src\\layers\\rnn\\rnn.py:200: UserWarning: Do not pass an `input_shape`/`input_dim` argument to a layer. When using Sequential models, prefer using an `Input(shape)` object as the first layer in the model instead.\n",
      "  super().__init__(**kwargs)\n"
     ]
    }
   ],
   "execution_count": 12
  },
  {
   "metadata": {
    "ExecuteTime": {
     "end_time": "2025-03-24T06:26:54.887532Z",
     "start_time": "2025-03-24T06:26:54.870104Z"
    }
   },
   "cell_type": "code",
   "source": [
    "# Compile the model\n",
    "model.compile(loss='binary_crossentropy', optimizer='adam', metrics=['accuracy'])\n"
   ],
   "id": "90b490dce9c0c8e8",
   "outputs": [],
   "execution_count": 13
  },
  {
   "metadata": {},
   "cell_type": "markdown",
   "source": "",
   "id": "8a242d6830428f99"
  },
  {
   "metadata": {
    "ExecuteTime": {
     "end_time": "2025-03-24T06:28:43.069505Z",
     "start_time": "2025-03-24T06:27:01.599916Z"
    }
   },
   "cell_type": "code",
   "source": [
    "# Train the model\n",
    "history = model.fit(X_train, y_train, epochs=20, batch_size=32, validation_data=(X_test, y_test))\n",
    "\n",
    "# Evaluate the model\n",
    "test_loss, test_acc = model.evaluate(X_test, y_test)\n",
    "print(f\"Test Accuracy: {test_acc:.4f}\")"
   ],
   "id": "354cd89c85496fc4",
   "outputs": [
    {
     "name": "stdout",
     "output_type": "stream",
     "text": [
      "Epoch 1/20\n",
      "\u001B[1m219/219\u001B[0m \u001B[32m━━━━━━━━━━━━━━━━━━━━\u001B[0m\u001B[37m\u001B[0m \u001B[1m8s\u001B[0m 25ms/step - accuracy: 0.9564 - loss: 0.1909 - val_accuracy: 0.9900 - val_loss: 0.0285\n",
      "Epoch 2/20\n",
      "\u001B[1m219/219\u001B[0m \u001B[32m━━━━━━━━━━━━━━━━━━━━\u001B[0m\u001B[37m\u001B[0m \u001B[1m5s\u001B[0m 22ms/step - accuracy: 0.9909 - loss: 0.0327 - val_accuracy: 0.9893 - val_loss: 0.0350\n",
      "Epoch 3/20\n",
      "\u001B[1m219/219\u001B[0m \u001B[32m━━━━━━━━━━━━━━━━━━━━\u001B[0m\u001B[37m\u001B[0m \u001B[1m5s\u001B[0m 23ms/step - accuracy: 0.9903 - loss: 0.0293 - val_accuracy: 0.9943 - val_loss: 0.0238\n",
      "Epoch 4/20\n",
      "\u001B[1m219/219\u001B[0m \u001B[32m━━━━━━━━━━━━━━━━━━━━\u001B[0m\u001B[37m\u001B[0m \u001B[1m5s\u001B[0m 22ms/step - accuracy: 0.9959 - loss: 0.0193 - val_accuracy: 0.9870 - val_loss: 0.0420\n",
      "Epoch 5/20\n",
      "\u001B[1m219/219\u001B[0m \u001B[32m━━━━━━━━━━━━━━━━━━━━\u001B[0m\u001B[37m\u001B[0m \u001B[1m5s\u001B[0m 22ms/step - accuracy: 0.9894 - loss: 0.0365 - val_accuracy: 0.9900 - val_loss: 0.0316\n",
      "Epoch 6/20\n",
      "\u001B[1m219/219\u001B[0m \u001B[32m━━━━━━━━━━━━━━━━━━━━\u001B[0m\u001B[37m\u001B[0m \u001B[1m5s\u001B[0m 23ms/step - accuracy: 0.9962 - loss: 0.0149 - val_accuracy: 0.9917 - val_loss: 0.0311\n",
      "Epoch 7/20\n",
      "\u001B[1m219/219\u001B[0m \u001B[32m━━━━━━━━━━━━━━━━━━━━\u001B[0m\u001B[37m\u001B[0m \u001B[1m5s\u001B[0m 22ms/step - accuracy: 0.9928 - loss: 0.0263 - val_accuracy: 0.9923 - val_loss: 0.0330\n",
      "Epoch 8/20\n",
      "\u001B[1m219/219\u001B[0m \u001B[32m━━━━━━━━━━━━━━━━━━━━\u001B[0m\u001B[37m\u001B[0m \u001B[1m5s\u001B[0m 22ms/step - accuracy: 0.9927 - loss: 0.0239 - val_accuracy: 0.9917 - val_loss: 0.0303\n",
      "Epoch 9/20\n",
      "\u001B[1m219/219\u001B[0m \u001B[32m━━━━━━━━━━━━━━━━━━━━\u001B[0m\u001B[37m\u001B[0m \u001B[1m6s\u001B[0m 25ms/step - accuracy: 0.9942 - loss: 0.0172 - val_accuracy: 0.9903 - val_loss: 0.0288\n",
      "Epoch 10/20\n",
      "\u001B[1m219/219\u001B[0m \u001B[32m━━━━━━━━━━━━━━━━━━━━\u001B[0m\u001B[37m\u001B[0m \u001B[1m5s\u001B[0m 21ms/step - accuracy: 0.9933 - loss: 0.0196 - val_accuracy: 0.9923 - val_loss: 0.0227\n",
      "Epoch 11/20\n",
      "\u001B[1m219/219\u001B[0m \u001B[32m━━━━━━━━━━━━━━━━━━━━\u001B[0m\u001B[37m\u001B[0m \u001B[1m5s\u001B[0m 22ms/step - accuracy: 0.9964 - loss: 0.0129 - val_accuracy: 0.9930 - val_loss: 0.0257\n",
      "Epoch 12/20\n",
      "\u001B[1m219/219\u001B[0m \u001B[32m━━━━━━━━━━━━━━━━━━━━\u001B[0m\u001B[37m\u001B[0m \u001B[1m5s\u001B[0m 22ms/step - accuracy: 0.9961 - loss: 0.0140 - val_accuracy: 0.9893 - val_loss: 0.0345\n",
      "Epoch 13/20\n",
      "\u001B[1m219/219\u001B[0m \u001B[32m━━━━━━━━━━━━━━━━━━━━\u001B[0m\u001B[37m\u001B[0m \u001B[1m5s\u001B[0m 23ms/step - accuracy: 0.9951 - loss: 0.0192 - val_accuracy: 0.9913 - val_loss: 0.0327\n",
      "Epoch 14/20\n",
      "\u001B[1m219/219\u001B[0m \u001B[32m━━━━━━━━━━━━━━━━━━━━\u001B[0m\u001B[37m\u001B[0m \u001B[1m5s\u001B[0m 21ms/step - accuracy: 0.9949 - loss: 0.0185 - val_accuracy: 0.9900 - val_loss: 0.0363\n",
      "Epoch 15/20\n",
      "\u001B[1m219/219\u001B[0m \u001B[32m━━━━━━━━━━━━━━━━━━━━\u001B[0m\u001B[37m\u001B[0m \u001B[1m5s\u001B[0m 21ms/step - accuracy: 0.9969 - loss: 0.0109 - val_accuracy: 0.9907 - val_loss: 0.0433\n",
      "Epoch 16/20\n",
      "\u001B[1m219/219\u001B[0m \u001B[32m━━━━━━━━━━━━━━━━━━━━\u001B[0m\u001B[37m\u001B[0m \u001B[1m5s\u001B[0m 22ms/step - accuracy: 0.9960 - loss: 0.0128 - val_accuracy: 0.9893 - val_loss: 0.0408\n",
      "Epoch 17/20\n",
      "\u001B[1m219/219\u001B[0m \u001B[32m━━━━━━━━━━━━━━━━━━━━\u001B[0m\u001B[37m\u001B[0m \u001B[1m5s\u001B[0m 21ms/step - accuracy: 0.9974 - loss: 0.0103 - val_accuracy: 0.9910 - val_loss: 0.0293\n",
      "Epoch 18/20\n",
      "\u001B[1m219/219\u001B[0m \u001B[32m━━━━━━━━━━━━━━━━━━━━\u001B[0m\u001B[37m\u001B[0m \u001B[1m5s\u001B[0m 22ms/step - accuracy: 0.9963 - loss: 0.0114 - val_accuracy: 0.9897 - val_loss: 0.0396\n",
      "Epoch 19/20\n",
      "\u001B[1m219/219\u001B[0m \u001B[32m━━━━━━━━━━━━━━━━━━━━\u001B[0m\u001B[37m\u001B[0m \u001B[1m5s\u001B[0m 21ms/step - accuracy: 0.9934 - loss: 0.0197 - val_accuracy: 0.9913 - val_loss: 0.0374\n",
      "Epoch 20/20\n",
      "\u001B[1m219/219\u001B[0m \u001B[32m━━━━━━━━━━━━━━━━━━━━\u001B[0m\u001B[37m\u001B[0m \u001B[1m5s\u001B[0m 23ms/step - accuracy: 0.9960 - loss: 0.0125 - val_accuracy: 0.9880 - val_loss: 0.0425\n",
      "\u001B[1m94/94\u001B[0m \u001B[32m━━━━━━━━━━━━━━━━━━━━\u001B[0m\u001B[37m\u001B[0m \u001B[1m0s\u001B[0m 4ms/step - accuracy: 0.9915 - loss: 0.0276\n",
      "Test Accuracy: 0.9880\n"
     ]
    }
   ],
   "execution_count": 14
  },
  {
   "metadata": {
    "ExecuteTime": {
     "end_time": "2025-03-24T06:31:16.549150Z",
     "start_time": "2025-03-24T06:31:16.008620Z"
    }
   },
   "cell_type": "code",
   "source": [
    "from sklearn.metrics import classification_report, confusion_matrix\n",
    "import seaborn as sns\n",
    "import matplotlib.pyplot as plt\n",
    "\n",
    "y_pred = (model.predict(X_test) > 0.5).astype(\"int32\")\n",
    "print(classification_report(y_test, y_pred))\n",
    "\n",
    "# Plot confusion matrix\n",
    "cm = confusion_matrix(y_test, y_pred)\n",
    "sns.heatmap(cm, annot=True, fmt='d', cmap='Blues', xticklabels=['Legitimate', 'Phishing'], yticklabels=['Legitimate', 'Phishing'])\n",
    "plt.xlabel('Predicted')\n",
    "plt.ylabel('Actual')\n",
    "plt.title('Confusion Matrix')\n",
    "plt.show()\n"
   ],
   "id": "e0e3f65929f0e200",
   "outputs": [
    {
     "name": "stdout",
     "output_type": "stream",
     "text": [
      "\u001B[1m94/94\u001B[0m \u001B[32m━━━━━━━━━━━━━━━━━━━━\u001B[0m\u001B[37m\u001B[0m \u001B[1m0s\u001B[0m 3ms/step\n",
      "              precision    recall  f1-score   support\n",
      "\n",
      "         0.0       0.99      0.99      0.99      2119\n",
      "         1.0       0.98      0.98      0.98       881\n",
      "\n",
      "    accuracy                           0.99      3000\n",
      "   macro avg       0.99      0.98      0.99      3000\n",
      "weighted avg       0.99      0.99      0.99      3000\n",
      "\n"
     ]
    },
    {
     "data": {
      "text/plain": [
       "<Figure size 640x480 with 2 Axes>"
      ],
      "image/png": "[encoded data removed]"
     },
     "metadata": {},
     "output_type": "display_data"
    }
   ],
   "execution_count": 16
  },
  {
   "metadata": {
    "ExecuteTime": {
     "end_time": "2025-03-24T06:31:18.544625Z",
     "start_time": "2025-03-24T06:31:18.324274Z"
    }
   },
   "cell_type": "code",
   "source": "model.save('phishing_v1.h5')",
   "id": "4843e88c652cec35",
   "outputs": [
    {
     "name": "stderr",
     "output_type": "stream",
     "text": [
      "WARNING:absl:You are saving your model as an HDF5 file via `model.save()` or `keras.saving.save_model(model)`. This file format is considered legacy. We recommend using instead the native Keras format, e.g. `model.save('my_model.keras')` or `keras.saving.save_model(model, 'my_model.keras')`. \n"
     ]
    }
   ],
   "execution_count": 17
  },
  {
   "metadata": {},
   "cell_type": "code",
   "outputs": [],
   "execution_count": null,
   "source": "",
   "id": "df940cb02cdc82d7"
  }
 ],
 "metadata": {
  "kernelspec": {
   "display_name": "Python 3",
   "language": "python",
   "name": "python3"
  },
  "language_info": {
   "codemirror_mode": {
    "name": "ipython",
    "version": 2
   },
   "file_extension": ".py",
   "mimetype": "text/x-python",
   "name": "python",
   "nbconvert_exporter": "python",
   "pygments_lexer": "ipython2",
   "version": "2.7.6"
  }
 },
 "nbformat": 4,
 "nbformat_minor": 5
}
